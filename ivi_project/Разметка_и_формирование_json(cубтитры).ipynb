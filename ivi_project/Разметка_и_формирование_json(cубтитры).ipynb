{
 "cells": [
  {
   "cell_type": "code",
   "execution_count": 12,
   "id": "57d31d11-283b-478c-90d4-e3c6b8670aa0",
   "metadata": {},
   "outputs": [],
   "source": [
    "import re\n",
    "import pandas as pd\n",
    "import torch\n",
    "import numpy as np\n",
    "from glob import glob\n",
    "import os\n",
    "import json"
   ]
  },
  {
   "cell_type": "code",
   "execution_count": 7,
   "id": "c1bb626e-2b42-46aa-8de3-3a62f9242d03",
   "metadata": {},
   "outputs": [],
   "source": [
    "class TransformerToJson:\n",
    "    def __init__(self, folder_path):\n",
    "        self.folder_path = folder_path\n",
    "        self.out_dir = os.path.join(folder_path, \"processed_json\")\n",
    "        os.makedirs(self.out_dir, exist_ok=True)\n",
    "\n",
    "    @staticmethod\n",
    "    def parse_filename(filename):\n",
    "        basename = os.path.basename(filename)\n",
    "        m = re.match(r\"(\\d+)_(\\d+)_(\\d+)\\.srt\", basename)\n",
    "        if not m:\n",
    "            raise ValueError(f\"Неправильное имя файла: {filename}\")\n",
    "        return int(m.group(1)), int(m.group(2)), int(m.group(3))\n",
    "\n",
    "    @staticmethod\n",
    "    def parse_srt(filepath):\n",
    "        with open(filepath, encoding='utf-8-sig') as f:\n",
    "            content = f.read()\n",
    "        blocks = re.split(r'\\n\\s*\\n', content)\n",
    "        subtitles = []\n",
    "        for block in blocks:\n",
    "            lines = block.strip().split('\\n')\n",
    "            if len(lines) >= 3:\n",
    "                index = lines[0].strip()\n",
    "                try:\n",
    "                    index = int(index)\n",
    "                except Exception:\n",
    "                    index = -1\n",
    "                times = lines[1].strip()\n",
    "                text = \" \".join(lines[2:]).strip()\n",
    "                m = re.match(r'(\\d+:\\d+:\\d+,\\d+)\\s*-->\\s*(\\d+:\\d+:\\d+,\\d+)', times)\n",
    "                if m:\n",
    "                    start, end = m.groups()\n",
    "                else:\n",
    "                    start, end = None, None\n",
    "                subtitles.append({\n",
    "                    \"index\": index,\n",
    "                    \"start\": start,\n",
    "                    \"end\": end,\n",
    "                    \"text\": text\n",
    "                })\n",
    "        return subtitles\n",
    "\n",
    "    @staticmethod\n",
    "    def clean_subtitle_text(text):\n",
    "        return re.sub(r'\\([^)]+\\)', '', text).strip()\n",
    "\n",
    "    def process_srt_file(self, filepath):\n",
    "        series_id, season, episode = self.parse_filename(filepath)\n",
    "        data = {\n",
    "            \"series_id\": series_id,\n",
    "            \"season\": season,\n",
    "            \"episode\": episode,\n",
    "            \"filename\": os.path.basename(filepath),\n",
    "            \"subtitles\": []\n",
    "        }\n",
    "        for sub in self.parse_srt(filepath):\n",
    "            clean_text = self.clean_subtitle_text(sub['text'])\n",
    "            if clean_text:  # Только непустые реплики\n",
    "                entry = {\n",
    "                    \"index\": sub[\"index\"],\n",
    "                    \"start\": sub[\"start\"],\n",
    "                    \"end\": sub[\"end\"],\n",
    "                    \"text\": sub[\"text\"],\n",
    "                    \"clean_text\": clean_text\n",
    "                }\n",
    "                data[\"subtitles\"].append(entry)\n",
    "        out_path = os.path.join(self.out_dir, os.path.basename(filepath).replace('.srt', '.json'))\n",
    "        with open(out_path, 'w', encoding='utf-8') as f:\n",
    "            json.dump(data, f, ensure_ascii=False, indent=2)\n",
    "        print(f\"Saved: {out_path}\")\n",
    "\n",
    "    def process_folder(self):\n",
    "        files = sorted(glob(os.path.join(self.folder_path, \"*.srt\")))\n",
    "        for file in files:\n",
    "            self.process_srt_file(file)\n"
   ]
  },
  {
   "cell_type": "code",
   "execution_count": 8,
   "id": "98df8c2d-957e-4399-bf1a-c2821d676914",
   "metadata": {},
   "outputs": [
    {
     "name": "stdout",
     "output_type": "stream",
     "text": [
      "Saved: subtitles/processed_json/14194_1_1.json\n",
      "Saved: subtitles/processed_json/14194_1_10.json\n",
      "Saved: subtitles/processed_json/14194_1_11.json\n",
      "Saved: subtitles/processed_json/14194_1_2.json\n",
      "Saved: subtitles/processed_json/14194_1_3.json\n",
      "Saved: subtitles/processed_json/14194_1_4.json\n",
      "Saved: subtitles/processed_json/14194_1_5.json\n",
      "Saved: subtitles/processed_json/14194_1_6.json\n",
      "Saved: subtitles/processed_json/14194_1_7.json\n",
      "Saved: subtitles/processed_json/14194_1_8.json\n",
      "Saved: subtitles/processed_json/14194_1_9.json\n",
      "Saved: subtitles/processed_json/15716_1_1.json\n",
      "Saved: subtitles/processed_json/15716_1_10.json\n",
      "Saved: subtitles/processed_json/15716_1_11.json\n",
      "Saved: subtitles/processed_json/15716_1_2.json\n",
      "Saved: subtitles/processed_json/15716_1_3.json\n",
      "Saved: subtitles/processed_json/15716_1_4.json\n",
      "Saved: subtitles/processed_json/15716_1_5.json\n",
      "Saved: subtitles/processed_json/15716_1_6.json\n",
      "Saved: subtitles/processed_json/15716_1_7.json\n",
      "Saved: subtitles/processed_json/15716_1_8.json\n",
      "Saved: subtitles/processed_json/15716_1_9.json\n",
      "Saved: subtitles/processed_json/15716_2_1.json\n",
      "Saved: subtitles/processed_json/15716_2_10.json\n",
      "Saved: subtitles/processed_json/15716_2_2.json\n",
      "Saved: subtitles/processed_json/15716_2_3.json\n",
      "Saved: subtitles/processed_json/15716_2_4.json\n",
      "Saved: subtitles/processed_json/15716_2_5.json\n",
      "Saved: subtitles/processed_json/15716_2_6.json\n",
      "Saved: subtitles/processed_json/15716_2_7.json\n",
      "Saved: subtitles/processed_json/15716_2_8.json\n",
      "Saved: subtitles/processed_json/15716_2_9.json\n",
      "Saved: subtitles/processed_json/16784_1_1.json\n",
      "Saved: subtitles/processed_json/16784_1_2.json\n",
      "Saved: subtitles/processed_json/16784_1_3.json\n",
      "Saved: subtitles/processed_json/16784_1_4.json\n",
      "Saved: subtitles/processed_json/16784_1_5.json\n",
      "Saved: subtitles/processed_json/16784_1_6.json\n",
      "Saved: subtitles/processed_json/16784_1_7.json\n",
      "Saved: subtitles/processed_json/16784_1_8.json\n"
     ]
    }
   ],
   "source": [
    "t2j = TransformerToJson(\"subtitles\")\n",
    "t2j.process_folder()"
   ]
  },
  {
   "cell_type": "markdown",
   "id": "54fa5753-f8df-4273-a00a-79c08ab59966",
   "metadata": {},
   "source": [
    "## Разметка предложений"
   ]
  },
  {
   "cell_type": "markdown",
   "id": "c3636ea2-5785-4459-b468-9e6995442026",
   "metadata": {},
   "source": [
    "**Данные код используется исключительно для разметки обучающей выборки**"
   ]
  },
  {
   "cell_type": "code",
   "execution_count": 4,
   "id": "3e02a0f8-7b0b-4872-8599-730caa27614b",
   "metadata": {},
   "outputs": [],
   "source": [
    "\n",
    "def mark_key_phrases(json_path, key_indexes):\n",
    "    if isinstance(key_indexes, int):\n",
    "        key_indexes = [key_indexes]\n",
    "    key_indexes = set(key_indexes)\n",
    "\n",
    "    with open(json_path, encoding='utf-8') as f:\n",
    "        data = json.load(f)\n",
    "\n",
    "    for sub in data['subtitles']:\n",
    "        idx = sub.get('index')\n",
    "        try:\n",
    "            idx = int(idx)\n",
    "        except Exception:\n",
    "            idx = -1\n",
    "        sub['is_key'] = 1 if idx in key_indexes else 0\n",
    "\n",
    "    with open(json_path, 'w', encoding='utf-8') as f:\n",
    "        json.dump(data, f, ensure_ascii=False, indent=2)\n",
    "\n",
    "    print(f\"Файл размечен: {json_path}\")\n"
   ]
  },
  {
   "cell_type": "code",
   "execution_count": 50,
   "id": "05e35b3d-3bb8-484f-860d-dc267650e37b",
   "metadata": {},
   "outputs": [
    {
     "name": "stdout",
     "output_type": "stream",
     "text": [
      "Файл размечен: subtitles/processed_json/16784_1_2.json\n"
     ]
    }
   ],
   "source": [
    "#mark_key_phrases(\"subtitles/processed_json/16784_1_2.json\",[7, 10, 11, 14, 15, 22, 23, 61, 62, 66, 67, 81, 84, 86, 91, 92, 110, 113, 118, 121, 129, 130, 139, 142, 144, 145, 148, 171, 173, 176, 177, 191, 192, 193, 194, 196, 197, 209, 210, 213, 220])\n"
   ]
  },
  {
   "cell_type": "code",
   "execution_count": null,
   "id": "d60c72b4-280b-47a4-9e58-33167e21e08d",
   "metadata": {},
   "outputs": [],
   "source": []
  },
  {
   "cell_type": "code",
   "execution_count": null,
   "id": "ddcc98b2-4f31-4045-8798-b63aebb00fa3",
   "metadata": {},
   "outputs": [],
   "source": []
  }
 ],
 "metadata": {
  "kernelspec": {
   "display_name": "Python 3 (ipykernel)",
   "language": "python",
   "name": "python3"
  },
  "language_info": {
   "codemirror_mode": {
    "name": "ipython",
    "version": 3
   },
   "file_extension": ".py",
   "mimetype": "text/x-python",
   "name": "python",
   "nbconvert_exporter": "python",
   "pygments_lexer": "ipython3",
   "version": "3.11.12"
  }
 },
 "nbformat": 4,
 "nbformat_minor": 5
}
