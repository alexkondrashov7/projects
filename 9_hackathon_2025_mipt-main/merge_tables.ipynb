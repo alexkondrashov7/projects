{
 "cells": [
  {
   "cell_type": "markdown",
   "id": "f63214a7-396a-4ebb-9a65-4efb9d18e071",
   "metadata": {},
   "source": [
    "# Ссылка на данные\n",
    "\n",
    "https://disk.yandex.ru/d/njZFAs-9_2b_lA"
   ]
  },
  {
   "cell_type": "markdown",
   "id": "754d45ad-9ec2-45df-8ecd-4205d6ed5cc2",
   "metadata": {},
   "source": [
    "![schema_data](schema_data.png)"
   ]
  },
  {
   "cell_type": "markdown",
   "id": "a34073e9-5c01-4912-9347-3aff71da21dd",
   "metadata": {},
   "source": [
    "## Первичный осмотр данных"
   ]
  },
  {
   "cell_type": "code",
   "execution_count": 1,
   "id": "5fe1ddfc-ac74-4e4d-85de-8077108f3690",
   "metadata": {},
   "outputs": [],
   "source": [
    "import pandas as pd\n",
    "import numpy as np\n",
    "import warnings\n",
    "pd.set_option('display.max_columns', None)\n",
    "warnings.filterwarnings('ignore')\n",
    "df_sellers = pd.read_csv('sellers.csv',index_col='Unnamed: 0')\n",
    "df_orders_item = pd.read_csv('orders_items.csv',index_col='Unnamed: 0')\n",
    "df_final = df_sellers.merge(df_orders_item, how = 'right', on = 'seller_id')\n",
    "df_final.drop_duplicates(inplace = True)\n",
    "df_products = pd.read_csv('products.csv')\n",
    "df_final = df_final.merge(df_products, how = 'left', on = 'product_id')\n",
    "df_category_name = pd.read_csv('product_category_name_translation.csv',index_col='Unnamed: 0')\n",
    "df_final = df_final.merge(df_category_name, how = 'left', on='product_category_name')\n",
    "df_orders = pd.read_csv('orders.csv')\n",
    "df_payments = pd.read_csv('order_payments.csv',index_col='Unnamed: 0')\n",
    "df_final_2 = df_orders.merge(df_payments, on = 'order_id')\n",
    "df_customers = pd.read_csv('customers.csv')\n",
    "df_final_2 = df_final_2.merge(df_customers, on = 'customer_id')\n",
    "df_order_reviews = pd.read_csv('order_reviews.csv',index_col='Unnamed: 0')\n",
    "df_final_2 = df_final_2.merge(df_order_reviews, on = 'order_id', how = 'left')\n",
    "df_itog = df_final_2.merge(df_final, on = 'order_id', how = 'left')\n",
    "df_geolocation = pd.read_csv('geolocation.csv',index_col='Unnamed: 0')\n",
    "df_geolocation.drop(['geolocation_lat','geolocation_lng'],axis = 1, inplace = True)\n",
    "df_geolocation.drop_duplicates(inplace = True)\n",
    "df_geolocation.reset_index(drop = True, inplace = True)\n",
    "df_geolocation_seller = df_geolocation.copy()\n",
    "df_geolocation_seller.columns =['seller_'+ col for col in df_geolocation_seller.columns]\n",
    "df_geolocation_customers = df_geolocation.copy()\n",
    "df_geolocation_customers.columns =['customer_'+ col for col in df_geolocation_customers.columns]\n",
    "df_itog = df_itog.merge(df_geolocation_seller , how = 'left', left_on='seller_zip_code_prefix' , right_on='seller_geolocation_zip_code_prefix')\n",
    "df_itog = df_itog.merge(df_geolocation_customers , how = 'left', left_on='customer_zip_code_prefix' , right_on='customer_geolocation_zip_code_prefix')\n",
    "df_itog.drop_duplicates(inplace = True)\n",
    "df_itog.reset_index(drop = True, inplace = True)"
   ]
  },
  {
   "cell_type": "code",
   "execution_count": 2,
   "id": "01a03338-eed9-44f8-aacd-996ec0f6ba4e",
   "metadata": {},
   "outputs": [],
   "source": [
    "df_itog.to_csv('final_df_v2.csv',index = False)"
   ]
  },
  {
   "cell_type": "code",
   "execution_count": 3,
   "id": "5fd75449-b220-49a0-8ce3-5e144632511b",
   "metadata": {},
   "outputs": [],
   "source": [
    "dtypes = {\n",
    "    'payment_sequential': 'int16',\n",
    "    'payment_installments': 'int16',\n",
    "    'payment_value': 'float32',\n",
    "    'customer_zip_code_prefix': 'int32',\n",
    "    'seller_zip_code_prefix': 'Int32',\n",
    "    'order_item_id': 'Int16',\n",
    "    'price': 'float32',\n",
    "    'freight_value': 'float32',\n",
    "    'price.1': 'float32',\n",
    "    'freight_value.1': 'float32',\n",
    "    'product_name_lenght': 'Int16',\n",
    "    'product_description_lenght': 'Int16',\n",
    "    'product_photos_qty': 'Int16',\n",
    "    'product_weight_g': 'float32',\n",
    "    'product_length_cm': 'float32',\n",
    "    'product_height_cm': 'float32',\n",
    "    'product_width_cm': 'float32',\n",
    "    'customer_geolocation_zip_code_prefix': 'Int32',\n",
    "    'order_status': 'category',\n",
    "    'payment_type': 'category',\n",
    "    'customer_state': 'category',\n",
    "    'seller_state': 'category',\n",
    "    'product_category_name': 'category',\n",
    "    'product_category_name_english': 'category',\n",
    "    'customer_geolocation_state': 'category',\n",
    "    'customer_city': 'category',\n",
    "    'seller_city': 'category',\n",
    "    'seller_geolocation_city': 'category',\n",
    "    'customer_geolocation_city': 'category'\n",
    "}\n",
    "parse_dates = [\n",
    "    'order_purchase_timestamp', 'order_approved_at',\n",
    "    'order_delivered_carrier_date', 'order_delivered_customer_date',\n",
    "    'order_estimated_delivery_date', 'review_creation_date',\n",
    "    'review_answer_timestamp', 'shipping_limit_date', 'shipping_limit_date.1'\n",
    "]\n",
    "df_itog = pd.read_csv(\"final_df_v2.csv\", dtype=dtypes, parse_dates=parse_dates)\n",
    "df_itog.drop(['shipping_limit_date.1','price.1','freight_value.1'],inplace = True, axis = 1)\n",
    "df_itog.drop_duplicates(subset=[col for col in df_itog.columns if col not in ['customer_geolocation_city','seller_geolocation_city']], \n",
    "                        inplace = True)\n",
    "df_itog.reset_index(inplace = True, drop = True)\n",
    "df_itog.to_csv('final_df_v2.csv',index = False)"
   ]
  },
  {
   "cell_type": "code",
   "execution_count": null,
   "id": "e87e9525-a693-42cd-80df-b0ea8560909c",
   "metadata": {},
   "outputs": [],
   "source": []
  }
 ],
 "metadata": {
  "kernelspec": {
   "display_name": "Python 3 (ipykernel)",
   "language": "python",
   "name": "python3"
  },
  "language_info": {
   "codemirror_mode": {
    "name": "ipython",
    "version": 3
   },
   "file_extension": ".py",
   "mimetype": "text/x-python",
   "name": "python",
   "nbconvert_exporter": "python",
   "pygments_lexer": "ipython3",
   "version": "3.12.8"
  }
 },
 "nbformat": 4,
 "nbformat_minor": 5
}
